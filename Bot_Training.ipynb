{
  "nbformat": 4,
  "nbformat_minor": 0,
  "metadata": {
    "colab": {
      "provenance": [],
      "gpuType": "T4",
      "authorship_tag": "ABX9TyMXM4J76Q7Wd80PwyouUuz+",
      "include_colab_link": true
    },
    "kernelspec": {
      "name": "python3",
      "display_name": "Python 3"
    },
    "language_info": {
      "name": "python"
    },
    "accelerator": "GPU"
  },
  "cells": [
    {
      "cell_type": "markdown",
      "metadata": {
        "id": "view-in-github",
        "colab_type": "text"
      },
      "source": [
        "<a href=\"https://colab.research.google.com/github/bi-nguyen/Facebook_Student_Chatbot/blob/main/Bot_Training.ipynb\" target=\"_parent\"><img src=\"https://colab.research.google.com/assets/colab-badge.svg\" alt=\"Open In Colab\"/></a>"
      ]
    },
    {
      "cell_type": "code",
      "source": [
        "from google.colab import drive\n",
        "drive.mount(\"/content/drive\")"
      ],
      "metadata": {
        "colab": {
          "base_uri": "https://localhost:8080/"
        },
        "id": "SFjwd3e8nWBD",
        "outputId": "be257240-8126-4606-8208-2fbf05ab169f"
      },
      "execution_count": null,
      "outputs": [
        {
          "output_type": "stream",
          "name": "stdout",
          "text": [
            "Drive already mounted at /content/drive; to attempt to forcibly remount, call drive.mount(\"/content/drive\", force_remount=True).\n"
          ]
        }
      ]
    },
    {
      "cell_type": "code",
      "source": [
        "!pip install torchtext==0.6.0\n",
        "!pip install vncorenlp\n",
        "!mkdir -p vncorenlp/models/wordsegmenter\n",
        "!wget https://raw.githubusercontent.com/vncorenlp/VnCoreNLP/master/VnCoreNLP-1.1.1.jar\n",
        "!wget https://raw.githubusercontent.com/vncorenlp/VnCoreNLP/master/models/wordsegmenter/vi-vocab\n",
        "!wget https://raw.githubusercontent.com/vncorenlp/VnCoreNLP/master/models/wordsegmenter/wordsegmenter.rdr\n",
        "!mv VnCoreNLP-1.1.1.jar vncorenlp/\n",
        "!mv vi-vocab vncorenlp/models/wordsegmenter/\n",
        "!mv wordsegmenter.rdr vncorenlp/models/wordsegmenter/\n",
        "!pip install scikit-learn"
      ],
      "metadata": {
        "colab": {
          "base_uri": "https://localhost:8080/"
        },
        "id": "MXwYpSjbnVhE",
        "outputId": "8108adf8-4822-4581-e9e6-18d55b5a8c8a"
      },
      "execution_count": null,
      "outputs": [
        {
          "output_type": "stream",
          "name": "stdout",
          "text": [
            "Requirement already satisfied: torchtext==0.6.0 in /usr/local/lib/python3.10/dist-packages (0.6.0)\n",
            "Requirement already satisfied: tqdm in /usr/local/lib/python3.10/dist-packages (from torchtext==0.6.0) (4.66.1)\n",
            "Requirement already satisfied: requests in /usr/local/lib/python3.10/dist-packages (from torchtext==0.6.0) (2.31.0)\n",
            "Requirement already satisfied: torch in /usr/local/lib/python3.10/dist-packages (from torchtext==0.6.0) (2.1.0+cu121)\n",
            "Requirement already satisfied: numpy in /usr/local/lib/python3.10/dist-packages (from torchtext==0.6.0) (1.23.5)\n",
            "Requirement already satisfied: six in /usr/local/lib/python3.10/dist-packages (from torchtext==0.6.0) (1.16.0)\n",
            "Requirement already satisfied: sentencepiece in /usr/local/lib/python3.10/dist-packages (from torchtext==0.6.0) (0.1.99)\n",
            "Requirement already satisfied: charset-normalizer<4,>=2 in /usr/local/lib/python3.10/dist-packages (from requests->torchtext==0.6.0) (3.3.2)\n",
            "Requirement already satisfied: idna<4,>=2.5 in /usr/local/lib/python3.10/dist-packages (from requests->torchtext==0.6.0) (3.6)\n",
            "Requirement already satisfied: urllib3<3,>=1.21.1 in /usr/local/lib/python3.10/dist-packages (from requests->torchtext==0.6.0) (2.0.7)\n",
            "Requirement already satisfied: certifi>=2017.4.17 in /usr/local/lib/python3.10/dist-packages (from requests->torchtext==0.6.0) (2023.11.17)\n",
            "Requirement already satisfied: filelock in /usr/local/lib/python3.10/dist-packages (from torch->torchtext==0.6.0) (3.13.1)\n",
            "Requirement already satisfied: typing-extensions in /usr/local/lib/python3.10/dist-packages (from torch->torchtext==0.6.0) (4.5.0)\n",
            "Requirement already satisfied: sympy in /usr/local/lib/python3.10/dist-packages (from torch->torchtext==0.6.0) (1.12)\n",
            "Requirement already satisfied: networkx in /usr/local/lib/python3.10/dist-packages (from torch->torchtext==0.6.0) (3.2.1)\n",
            "Requirement already satisfied: jinja2 in /usr/local/lib/python3.10/dist-packages (from torch->torchtext==0.6.0) (3.1.3)\n",
            "Requirement already satisfied: fsspec in /usr/local/lib/python3.10/dist-packages (from torch->torchtext==0.6.0) (2023.6.0)\n",
            "Requirement already satisfied: triton==2.1.0 in /usr/local/lib/python3.10/dist-packages (from torch->torchtext==0.6.0) (2.1.0)\n",
            "Requirement already satisfied: MarkupSafe>=2.0 in /usr/local/lib/python3.10/dist-packages (from jinja2->torch->torchtext==0.6.0) (2.1.4)\n",
            "Requirement already satisfied: mpmath>=0.19 in /usr/local/lib/python3.10/dist-packages (from sympy->torch->torchtext==0.6.0) (1.3.0)\n",
            "Requirement already satisfied: vncorenlp in /usr/local/lib/python3.10/dist-packages (1.0.3)\n",
            "Requirement already satisfied: requests in /usr/local/lib/python3.10/dist-packages (from vncorenlp) (2.31.0)\n",
            "Requirement already satisfied: charset-normalizer<4,>=2 in /usr/local/lib/python3.10/dist-packages (from requests->vncorenlp) (3.3.2)\n",
            "Requirement already satisfied: idna<4,>=2.5 in /usr/local/lib/python3.10/dist-packages (from requests->vncorenlp) (3.6)\n",
            "Requirement already satisfied: urllib3<3,>=1.21.1 in /usr/local/lib/python3.10/dist-packages (from requests->vncorenlp) (2.0.7)\n",
            "Requirement already satisfied: certifi>=2017.4.17 in /usr/local/lib/python3.10/dist-packages (from requests->vncorenlp) (2023.11.17)\n",
            "--2024-01-29 09:16:35--  https://raw.githubusercontent.com/vncorenlp/VnCoreNLP/master/VnCoreNLP-1.1.1.jar\n",
            "Resolving raw.githubusercontent.com (raw.githubusercontent.com)... 185.199.108.133, 185.199.109.133, 185.199.110.133, ...\n",
            "Connecting to raw.githubusercontent.com (raw.githubusercontent.com)|185.199.108.133|:443... connected.\n",
            "HTTP request sent, awaiting response... 200 OK\n",
            "Length: 27412575 (26M) [application/octet-stream]\n",
            "Saving to: ‘VnCoreNLP-1.1.1.jar’\n",
            "\n",
            "VnCoreNLP-1.1.1.jar 100%[===================>]  26.14M   166MB/s    in 0.2s    \n",
            "\n",
            "2024-01-29 09:16:36 (166 MB/s) - ‘VnCoreNLP-1.1.1.jar’ saved [27412575/27412575]\n",
            "\n",
            "--2024-01-29 09:16:36--  https://raw.githubusercontent.com/vncorenlp/VnCoreNLP/master/models/wordsegmenter/vi-vocab\n",
            "Resolving raw.githubusercontent.com (raw.githubusercontent.com)... 185.199.108.133, 185.199.110.133, 185.199.111.133, ...\n",
            "Connecting to raw.githubusercontent.com (raw.githubusercontent.com)|185.199.108.133|:443... connected.\n",
            "HTTP request sent, awaiting response... 200 OK\n",
            "Length: 526544 (514K) [application/octet-stream]\n",
            "Saving to: ‘vi-vocab’\n",
            "\n",
            "vi-vocab            100%[===================>] 514.20K  --.-KB/s    in 0.04s   \n",
            "\n",
            "2024-01-29 09:16:36 (13.3 MB/s) - ‘vi-vocab’ saved [526544/526544]\n",
            "\n",
            "--2024-01-29 09:16:36--  https://raw.githubusercontent.com/vncorenlp/VnCoreNLP/master/models/wordsegmenter/wordsegmenter.rdr\n",
            "Resolving raw.githubusercontent.com (raw.githubusercontent.com)... 185.199.109.133, 185.199.110.133, 185.199.111.133, ...\n",
            "Connecting to raw.githubusercontent.com (raw.githubusercontent.com)|185.199.109.133|:443... connected.\n",
            "HTTP request sent, awaiting response... 200 OK\n",
            "Length: 128508 (125K) [text/plain]\n",
            "Saving to: ‘wordsegmenter.rdr’\n",
            "\n",
            "wordsegmenter.rdr   100%[===================>] 125.50K  --.-KB/s    in 0.02s   \n",
            "\n",
            "2024-01-29 09:16:36 (5.68 MB/s) - ‘wordsegmenter.rdr’ saved [128508/128508]\n",
            "\n",
            "Requirement already satisfied: scikit-learn in /usr/local/lib/python3.10/dist-packages (1.2.2)\n",
            "Requirement already satisfied: numpy>=1.17.3 in /usr/local/lib/python3.10/dist-packages (from scikit-learn) (1.23.5)\n",
            "Requirement already satisfied: scipy>=1.3.2 in /usr/local/lib/python3.10/dist-packages (from scikit-learn) (1.11.4)\n",
            "Requirement already satisfied: joblib>=1.1.1 in /usr/local/lib/python3.10/dist-packages (from scikit-learn) (1.3.2)\n",
            "Requirement already satisfied: threadpoolctl>=2.0.0 in /usr/local/lib/python3.10/dist-packages (from scikit-learn) (3.2.0)\n"
          ]
        }
      ]
    },
    {
      "cell_type": "code",
      "source": [
        "from torchtext.data import Field, TabularDataset, BucketIterator\n",
        "import vncorenlp\n",
        "from vncorenlp import VnCoreNLP\n",
        "import spacy\n",
        "import torch\n",
        "import torch.nn as nn\n",
        "import torch.nn.functional as F\n",
        "import random\n",
        "from tqdm import tqdm\n",
        "from nltk.tokenize import word_tokenize\n",
        "from torchtext import data\n",
        "import matplotlib.pyplot as plt\n",
        "import pickle"
      ],
      "metadata": {
        "id": "vPsuUtcmnfMb"
      },
      "execution_count": null,
      "outputs": []
    },
    {
      "cell_type": "code",
      "source": [
        "segment = VnCoreNLP(\"./vncorenlp/VnCoreNLP-1.1.1.jar\", annotators=\"wseg\", max_heap_size='-Xmx2g')\n",
        "def vi_token(text):\n",
        "    text = segment.tokenize(text)\n",
        "    text = [ele for inlist in text for ele in inlist]\n",
        "    return text"
      ],
      "metadata": {
        "id": "pKpAFql7nf5S"
      },
      "execution_count": null,
      "outputs": []
    },
    {
      "cell_type": "code",
      "source": [
        "Vi = Field(tokenize=vi_token,\n",
        "           eos_token=\"<eos>\",\n",
        "           init_token=\"<sos>\",\n",
        "           lower = True,\n",
        "           batch_first=True\n",
        "           )\n",
        "Label = Field(sequential=False,use_vocab=False,batch_first=True)"
      ],
      "metadata": {
        "id": "R7tIuWDcnf2t"
      },
      "execution_count": null,
      "outputs": []
    },
    {
      "cell_type": "code",
      "source": [
        "fields = {\"Question\":(\"question\",Vi),\"label\":(\"label\",Label)}"
      ],
      "metadata": {
        "id": "M83F4xffnftR"
      },
      "execution_count": null,
      "outputs": []
    },
    {
      "cell_type": "code",
      "source": [
        "train,test = TabularDataset.splits(\n",
        "                                path = \"/content/drive/MyDrive/chatbotschool/Data\",\n",
        "                                train = \"data.csv\",\n",
        "                                test = \"test_data.csv\",\n",
        "                                format = \"csv\",\n",
        "                                fields = fields\n",
        ")"
      ],
      "metadata": {
        "id": "3AOEQX2Anfq4"
      },
      "execution_count": null,
      "outputs": []
    },
    {
      "cell_type": "code",
      "source": [
        "Vi.build_vocab(train)"
      ],
      "metadata": {
        "id": "W7gv-xobnfon"
      },
      "execution_count": null,
      "outputs": []
    },
    {
      "cell_type": "code",
      "source": [
        "word_to_idx  = Vi.vocab.stoi\n",
        "idx_to_word= Vi.vocab.itos"
      ],
      "metadata": {
        "id": "S3F49TYAnfmX"
      },
      "execution_count": null,
      "outputs": []
    },
    {
      "cell_type": "code",
      "source": [
        "vocablength = len(word_to_idx)"
      ],
      "metadata": {
        "id": "3xgqys-D9KXT"
      },
      "execution_count": null,
      "outputs": []
    },
    {
      "cell_type": "code",
      "source": [
        "vocablength"
      ],
      "metadata": {
        "colab": {
          "base_uri": "https://localhost:8080/"
        },
        "id": "tGsfIFKn94rU",
        "outputId": "29bed10d-d4ab-49ba-8096-8b487ce8d8d5"
      },
      "execution_count": null,
      "outputs": [
        {
          "output_type": "execute_result",
          "data": {
            "text/plain": [
              "280"
            ]
          },
          "metadata": {},
          "execution_count": 36
        }
      ]
    },
    {
      "cell_type": "code",
      "source": [
        "len(idx_to_word)"
      ],
      "metadata": {
        "colab": {
          "base_uri": "https://localhost:8080/"
        },
        "id": "0h2siD8Pcdyz",
        "outputId": "1d55efce-39af-4752-95fe-ba8e334b4f4e"
      },
      "execution_count": null,
      "outputs": [
        {
          "output_type": "execute_result",
          "data": {
            "text/plain": [
              "280"
            ]
          },
          "metadata": {},
          "execution_count": 37
        }
      ]
    },
    {
      "cell_type": "code",
      "source": [
        "word_to_idx"
      ],
      "metadata": {
        "colab": {
          "base_uri": "https://localhost:8080/"
        },
        "id": "PSta70Hgf9-V",
        "outputId": "05165d39-1b99-4a05-8b09-ad15d4db056a"
      },
      "execution_count": null,
      "outputs": [
        {
          "output_type": "execute_result",
          "data": {
            "text/plain": [
              "defaultdict(<bound method Vocab._default_unk_index of <torchtext.vocab.Vocab object at 0x789496c8ae00>>,\n",
              "            {'<unk>': 0,\n",
              "             '<pad>': 1,\n",
              "             '<sos>': 2,\n",
              "             '<eos>': 3,\n",
              "             'em': 4,\n",
              "             'ạ': 5,\n",
              "             'hỏi': 6,\n",
              "             'cho': 7,\n",
              "             'có': 8,\n",
              "             'ad': 9,\n",
              "             'không': 10,\n",
              "             'học': 11,\n",
              "             'được': 12,\n",
              "             'anh': 13,\n",
              "             'mình': 14,\n",
              "             'tiếng': 15,\n",
              "             'ko': 16,\n",
              "             'cơ_hội': 17,\n",
              "             'về': 18,\n",
              "             'học_phí': 19,\n",
              "             'sao': 20,\n",
              "             'rồi': 21,\n",
              "             'thi': 22,\n",
              "             'vào': 23,\n",
              "             'ielts': 24,\n",
              "             'thì': 25,\n",
              "             'khoa': 26,\n",
              "             'việc_làm': 27,\n",
              "             'bao_nhiêu': 28,\n",
              "             'dạ': 29,\n",
              "             'du_học': 30,\n",
              "             'toefl': 31,\n",
              "             'cần': 32,\n",
              "             'gì': 33,\n",
              "             'vậy': 34,\n",
              "             'đầu': 35,\n",
              "             'mấy': 36,\n",
              "             'ra': 37,\n",
              "             'là': 38,\n",
              "             'ơi': 39,\n",
              "             '1': 40,\n",
              "             'admin': 41,\n",
              "             'đào_tạo': 42,\n",
              "             'muốn': 43,\n",
              "             'nào': 44,\n",
              "             'biết': 45,\n",
              "             'bằng': 46,\n",
              "             'yêu_cầu': 47,\n",
              "             'năm': 48,\n",
              "             'mức': 49,\n",
              "             'với': 50,\n",
              "             'để': 51,\n",
              "             'tiền': 52,\n",
              "             'điểm': 53,\n",
              "             'lại': 54,\n",
              "             'ngành': 55,\n",
              "             'tuyển': 56,\n",
              "             'chào': 57,\n",
              "             'khối': 58,\n",
              "             'chương_trình': 59,\n",
              "             'xét': 60,\n",
              "             'cao': 61,\n",
              "             'chứng_chỉ': 62,\n",
              "             'nước_ngoài': 63,\n",
              "             'cảm_ơn': 64,\n",
              "             'đóng': 65,\n",
              "             'chuẩn': 66,\n",
              "             'thế': 67,\n",
              "             'trong': 68,\n",
              "             'của': 69,\n",
              "             'mới': 70,\n",
              "             'những': 71,\n",
              "             'xin': 72,\n",
              "             'min': 73,\n",
              "             'nhiều': 74,\n",
              "             'tốt': 75,\n",
              "             'tốt_nghiệp': 76,\n",
              "             'xong': 77,\n",
              "             'đã': 78,\n",
              "             'ở': 79,\n",
              "             'hình_thức': 80,\n",
              "             'phải': 81,\n",
              "             'trường': 82,\n",
              "             'cách': 83,\n",
              "             'tuyển_sinh': 84,\n",
              "             'học_tập': 85,\n",
              "             'như_thế_nào': 86,\n",
              "             'ra_trường': 87,\n",
              "             'văn': 88,\n",
              "             'đi': 89,\n",
              "             'đầu_ra': 90,\n",
              "             'ngoại_ngữ': 91,\n",
              "             'cái': 92,\n",
              "             'cám_ơn': 93,\n",
              "             'hơi': 94,\n",
              "             'lắm': 95,\n",
              "             'một': 96,\n",
              "             'nhé': 97,\n",
              "             'các': 98,\n",
              "             'có_thể': 99,\n",
              "             'làm': 100,\n",
              "             'này': 101,\n",
              "             'nội_dung': 102,\n",
              "             'yếu': 103,\n",
              "             'đây': 104,\n",
              "             'kém': 105,\n",
              "             'sau_này': 106,\n",
              "             'thiết_bị': 107,\n",
              "             'chút': 108,\n",
              "             'dạy': 109,\n",
              "             'hiểu': 110,\n",
              "             'rõ': 111,\n",
              "             'anh_em': 112,\n",
              "             'cách_thức': 113,\n",
              "             'hay': 114,\n",
              "             'kiếm': 115,\n",
              "             'kỳ': 116,\n",
              "             'môn': 117,\n",
              "             'theo': 118,\n",
              "             'tệ': 119,\n",
              "             'ok': 120,\n",
              "             'thế_nào': 121,\n",
              "             'toilet': 122,\n",
              "             'đại_học': 123,\n",
              "             ',': 124,\n",
              "             '?': 125,\n",
              "             'khi': 126,\n",
              "             'phòng': 127,\n",
              "             'thắc_mắc': 128,\n",
              "             'vật_chất': 129,\n",
              "             'đạt': 130,\n",
              "             'đầy_đủ': 131,\n",
              "             'cơ_sở': 132,\n",
              "             'dốt': 133,\n",
              "             'liên_kết': 134,\n",
              "             'minh': 135,\n",
              "             'một_chút': 136,\n",
              "             'sau': 137,\n",
              "             'sinh_viên': 138,\n",
              "             'tỉ_lệ': 139,\n",
              "             'điều_kiện': 140,\n",
              "             'a01': 141,\n",
              "             'cụ_thể': 142,\n",
              "             'hi': 143,\n",
              "             'kì': 144,\n",
              "             'làm_việc': 145,\n",
              "             'nhà': 146,\n",
              "             'đâu': 147,\n",
              "             'alo': 148,\n",
              "             'bạn': 149,\n",
              "             'chưa': 150,\n",
              "             'd07': 151,\n",
              "             'giảng_dạy': 152,\n",
              "             'nước': 153,\n",
              "             'okay': 154,\n",
              "             'trả_lời': 155,\n",
              "             'xe': 156,\n",
              "             'dạy_học': 157,\n",
              "             'làm_sao': 158,\n",
              "             'lương': 159,\n",
              "             'nghiên_cứu': 160,\n",
              "             'nếu': 161,\n",
              "             'phép': 162,\n",
              "             'thí_nghiệm': 163,\n",
              "             'trang_thiết_bị': 164,\n",
              "             'chấm': 165,\n",
              "             'cơ_sở_hạ_tầng': 166,\n",
              "             'dễ': 167,\n",
              "             'giỏi': 168,\n",
              "             'khó': 169,\n",
              "             'máy_lạnh': 170,\n",
              "             'nữa': 171,\n",
              "             'việc': 172,\n",
              "             'chỗ': 173,\n",
              "             'giúp': 174,\n",
              "             'khuôn_viên': 175,\n",
              "             'lĩnh_vực': 176,\n",
              "             'lần': 177,\n",
              "             'nhất': 178,\n",
              "             'sẽ': 179,\n",
              "             'to': 180,\n",
              "             'từ': 181,\n",
              "             'và': 182,\n",
              "             'đủ': 183,\n",
              "             'chi_tiết': 184,\n",
              "             'chắc': 185,\n",
              "             'công_ti': 186,\n",
              "             'hả': 187,\n",
              "             'mà': 188,\n",
              "             'máy_điều_hoà': 189,\n",
              "             'như': 190,\n",
              "             'nổi': 191,\n",
              "             'nộp': 192,\n",
              "             'oke': 193,\n",
              "             'phòng_thí_nghiệm': 194,\n",
              "             'sạch_sẽ': 195,\n",
              "             'thực_hành': 196,\n",
              "             'tv': 197,\n",
              "             'tính': 198,\n",
              "             'từng': 199,\n",
              "             'vô': 200,\n",
              "             'xét_duyệt': 201,\n",
              "             'bị': 202,\n",
              "             'có_dễ': 203,\n",
              "             'có_điều': 204,\n",
              "             'công_ty': 205,\n",
              "             'giùm': 206,\n",
              "             'gà': 207,\n",
              "             'gồm': 208,\n",
              "             'hãy': 209,\n",
              "             'hết': 210,\n",
              "             'khoa_học': 211,\n",
              "             'khu_vực': 212,\n",
              "             'khả_năng': 213,\n",
              "             'lấy': 214,\n",
              "             'lớn': 215,\n",
              "             'máy': 216,\n",
              "             'máy_móc': 217,\n",
              "             'máy_tính': 218,\n",
              "             'nhà_vệ_sinh': 219,\n",
              "             'phí': 220,\n",
              "             'phòng_ốc': 221,\n",
              "             'quạt': 222,\n",
              "             'rất': 223,\n",
              "             'rộng': 224,\n",
              "             'sạch': 225,\n",
              "             'sợ': 226,\n",
              "             'tivi': 227,\n",
              "             'tiêu_chuẩn': 228,\n",
              "             'tự': 229,\n",
              "             'điều': 230,\n",
              "             'đo_đạc': 231,\n",
              "             'đó': 232,\n",
              "             'đầu_tư': 233,\n",
              "             'ổn_định': 234,\n",
              "             '.': 235,\n",
              "             '5': 236,\n",
              "             '5.5': 237,\n",
              "             '6': 238,\n",
              "             'a03': 239,\n",
              "             'anh_chị': 240,\n",
              "             'bao': 241,\n",
              "             'bao_gồm': 242,\n",
              "             'buổi': 243,\n",
              "             'bên': 244,\n",
              "             'chất_lượng': 245,\n",
              "             'chồ': 246,\n",
              "             'chớ': 247,\n",
              "             'của_trường': 248,\n",
              "             'd05': 249,\n",
              "             'dùng': 250,\n",
              "             'dở': 251,\n",
              "             'dụng_cụ': 252,\n",
              "             'gần': 253,\n",
              "             'khu': 254,\n",
              "             'kiến_thức': 255,\n",
              "             'liệu': 256,\n",
              "             'làm_gì': 257,\n",
              "             'ngay': 258,\n",
              "             'ngành_nghề': 259,\n",
              "             'nên': 260,\n",
              "             'quá': 261,\n",
              "             'tham_gia': 262,\n",
              "             'thấp': 263,\n",
              "             'thầy_cô': 264,\n",
              "             'thế_này': 265,\n",
              "             'thứ': 266,\n",
              "             'tiếp': 267,\n",
              "             'tình_hình': 268,\n",
              "             'tối': 269,\n",
              "             'tổ_hợp': 270,\n",
              "             'tới': 271,\n",
              "             'vâng': 272,\n",
              "             'á': 273,\n",
              "             'điều_hoà': 274,\n",
              "             'đòi_hỏi': 275,\n",
              "             'đúng': 276,\n",
              "             'đăng_ký': 277,\n",
              "             'đồ_dùng': 278,\n",
              "             'ổn': 279})"
            ]
          },
          "metadata": {},
          "execution_count": 38
        }
      ]
    },
    {
      "cell_type": "markdown",
      "source": [
        "# Model"
      ],
      "metadata": {
        "id": "k42yZyw_7sJ9"
      }
    },
    {
      "cell_type": "code",
      "source": [
        "class Model(nn.Module):\n",
        "    def __init__(self,input_dim,embedding_dim,hidden_dim,output_dim=13,p=0.5 ) -> None:\n",
        "        super().__init__()\n",
        "        self.dropout = nn.Dropout(p)\n",
        "        self.embedding = nn.Embedding(input_dim,embedding_dim)\n",
        "        self.rnn = nn.RNN(input_size=embedding_dim,hidden_size=hidden_dim,batch_first=True)\n",
        "        self.linear = nn.Linear(hidden_dim,output_dim)\n",
        "    def forward(self,x):\n",
        "        out = self.dropout(self.embedding(x))\n",
        "        out,h = self.rnn(out)\n",
        "        out = self.linear(h.squeeze(0))\n",
        "        return out"
      ],
      "metadata": {
        "id": "gDFpsPKq27Qs"
      },
      "execution_count": null,
      "outputs": []
    },
    {
      "cell_type": "markdown",
      "source": [
        "# Hyperparameters"
      ],
      "metadata": {
        "id": "otbBKYwZW7s3"
      }
    },
    {
      "cell_type": "code",
      "source": [
        "learning_rate = 0.01\n",
        "epoches = 600\n",
        "batch_size = 16\n",
        "embedding_dim = 32\n",
        "hidden_dim = 64\n",
        "device = \"cuda\" if torch.cuda.is_available() else \"cpu\""
      ],
      "metadata": {
        "id": "KJk228nUW7TF"
      },
      "execution_count": null,
      "outputs": []
    },
    {
      "cell_type": "code",
      "source": [
        "train_iterator,val_iterator = BucketIterator.splits(\n",
        "                                (train,test),\n",
        "                                batch_size = 16,\n",
        "                                sort_key = lambda x: len(x.question),\n",
        "                                sort_within_batch=True)"
      ],
      "metadata": {
        "id": "yvOC1X7gnfhP"
      },
      "execution_count": null,
      "outputs": []
    },
    {
      "cell_type": "code",
      "source": [
        "data = iter(train_iterator)\n",
        "question,label = next(data).question,next(data).label"
      ],
      "metadata": {
        "id": "fhjEW5HD27WH"
      },
      "execution_count": null,
      "outputs": []
    },
    {
      "cell_type": "code",
      "source": [
        "question.shape"
      ],
      "metadata": {
        "colab": {
          "base_uri": "https://localhost:8080/"
        },
        "id": "Q_tCS5GP27TI",
        "outputId": "d3699592-2133-4ced-c97b-3be40a85c8e1"
      },
      "execution_count": null,
      "outputs": [
        {
          "output_type": "execute_result",
          "data": {
            "text/plain": [
              "torch.Size([16, 11])"
            ]
          },
          "metadata": {},
          "execution_count": 18
        }
      ]
    },
    {
      "cell_type": "code",
      "source": [
        "model= Model(input_dim=vocablength,embedding_dim=embedding_dim,hidden_dim=hidden_dim )"
      ],
      "metadata": {
        "id": "LyfFtF_M27N4"
      },
      "execution_count": null,
      "outputs": []
    },
    {
      "cell_type": "code",
      "source": [
        "loss_fn = nn.CrossEntropyLoss()\n",
        "optim = torch.optim.SGD(params=model.parameters(),lr = learning_rate)"
      ],
      "metadata": {
        "id": "fQRljOhM6Bxt"
      },
      "execution_count": null,
      "outputs": []
    },
    {
      "cell_type": "markdown",
      "source": [
        "# Training"
      ],
      "metadata": {
        "id": "OGBTxzT42AbC"
      }
    },
    {
      "cell_type": "code",
      "source": [
        "def accuracy(actual,predict):\n",
        "    return ((actual==predict).sum().item()/len(actual))*100"
      ],
      "metadata": {
        "id": "oZhpXt973pYx"
      },
      "execution_count": null,
      "outputs": []
    },
    {
      "cell_type": "code",
      "source": [
        "def training(model:nn.Module,loss_fn:nn.Module,optim: torch.optim.Optimizer,data:torch.utils.data.DataLoader,device:torch.device):\n",
        "    model.to(device)\n",
        "    loss_train = 0\n",
        "    acc_train = 0\n",
        "    for (batch,sample) in enumerate(data):\n",
        "        X = sample.question.to(device)\n",
        "        y = sample.label.to(device)\n",
        "        predict = model(X)\n",
        "        predict_value = predict.argmax(1)\n",
        "        acc_train+=accuracy(predict_value,y)\n",
        "        loss = loss_fn(predict,y)\n",
        "        loss_train+=loss.item()\n",
        "        #\n",
        "        optim.zero_grad()\n",
        "        loss.backward()\n",
        "        optim.step()\n",
        "    return loss_train/len(data),acc_train/len(data)"
      ],
      "metadata": {
        "id": "Lrn9smmG27Dq"
      },
      "execution_count": null,
      "outputs": []
    },
    {
      "cell_type": "code",
      "source": [
        "def test(model:nn.Module,loss_fn:nn.Module,optim: torch.optim.Optimizer,data:torch.utils.data.DataLoader,device:torch.device):\n",
        "    model.to(device)\n",
        "    loss_val = 0\n",
        "    acc_val = 0\n",
        "    model.eval()\n",
        "    with torch.inference_mode():\n",
        "        for (batch,sample) in enumerate(data):\n",
        "            X = sample.question.to(device)\n",
        "            y = sample.label.to(device)\n",
        "            predict = model(X)\n",
        "            predict_value = predict.argmax(1)\n",
        "            acc_val=accuracy(predict_value,y)\n",
        "            loss_val+=loss_fn(predict,y)\n",
        "    return loss_val/len(data),acc_val/len(data)"
      ],
      "metadata": {
        "id": "_tKkUnWU27BM"
      },
      "execution_count": null,
      "outputs": []
    },
    {
      "cell_type": "code",
      "source": [
        "loss_train_accumulate, loss_val_accumulate = [],[]\n",
        "acc_train_accumulate, acc_val_accumulate = [],[]\n",
        "for epoch in range(epoches):\n",
        "    loss_train ,acc_train = training(model,loss_fn,optim,train_iterator,device)\n",
        "    loss_val,acc_val = training(model,loss_fn,optim,val_iterator,device)\n",
        "    if (epoch+1)%20==0:\n",
        "        print(f\"epoches: {epoch+1:03d}| training_loss {round(loss_train, 4)}| Validation_loss {round(loss_val, 4)}|accuracy_train: {round(acc_train,4)}|accuracy_val: {round(acc_val,4)}\")\n",
        "        loss_train_accumulate.append(round(loss_train,4))\n",
        "        loss_val_accumulate.append(round(loss_val,4))\n",
        "        acc_train_accumulate.append(round(acc_train,4))\n",
        "        acc_val_accumulate.append(round(acc_val,4))"
      ],
      "metadata": {
        "id": "E2Znscas26-z",
        "colab": {
          "base_uri": "https://localhost:8080/"
        },
        "outputId": "e3263a81-456b-4f49-e1bf-9f4f01a67d58"
      },
      "execution_count": null,
      "outputs": [
        {
          "output_type": "stream",
          "name": "stdout",
          "text": [
            "epoches: 020| training_loss 2.0044| Validation_loss 2.003|accuracy_train: 34.6019|accuracy_val: 37.6961\n",
            "epoches: 040| training_loss 1.3418| Validation_loss 1.3004|accuracy_train: 55.7084|accuracy_val: 56.7892\n",
            "epoches: 060| training_loss 0.9932| Validation_loss 0.9864|accuracy_train: 68.1792|accuracy_val: 67.549\n",
            "epoches: 080| training_loss 0.7786| Validation_loss 0.7607|accuracy_train: 76.3759|accuracy_val: 73.0637\n",
            "epoches: 100| training_loss 0.5879| Validation_loss 0.6093|accuracy_train: 81.6306|accuracy_val: 80.7353\n",
            "epoches: 120| training_loss 0.5133| Validation_loss 0.5235|accuracy_train: 83.8847|accuracy_val: 83.0637\n",
            "epoches: 140| training_loss 0.4351| Validation_loss 0.5203|accuracy_train: 85.9631|accuracy_val: 83.7255\n",
            "epoches: 160| training_loss 0.376| Validation_loss 0.4429|accuracy_train: 88.3197|accuracy_val: 86.299\n",
            "epoches: 180| training_loss 0.3487| Validation_loss 0.4326|accuracy_train: 89.0369|accuracy_val: 87.7696\n",
            "epoches: 200| training_loss 0.3079| Validation_loss 0.3195|accuracy_train: 90.4713|accuracy_val: 90.3922\n",
            "epoches: 220| training_loss 0.2866| Validation_loss 0.3437|accuracy_train: 91.2617|accuracy_val: 88.2108\n",
            "epoches: 240| training_loss 0.2921| Validation_loss 0.2323|accuracy_train: 91.291|accuracy_val: 93.701\n",
            "epoches: 260| training_loss 0.2429| Validation_loss 0.3472|accuracy_train: 90.7787|accuracy_val: 90.7843\n",
            "epoches: 280| training_loss 0.2217| Validation_loss 0.2611|accuracy_train: 92.623|accuracy_val: 92.598\n",
            "epoches: 300| training_loss 0.2108| Validation_loss 0.2918|accuracy_train: 93.5451|accuracy_val: 91.1275\n",
            "epoches: 320| training_loss 0.2227| Validation_loss 0.2395|accuracy_train: 93.1352|accuracy_val: 93.701\n",
            "epoches: 340| training_loss 0.2034| Validation_loss 0.2682|accuracy_train: 93.75|accuracy_val: 92.9657\n",
            "epoches: 360| training_loss 0.2159| Validation_loss 0.2283|accuracy_train: 93.5158|accuracy_val: 93.7255\n",
            "epoches: 380| training_loss 0.2244| Validation_loss 0.2227|accuracy_train: 92.5205|accuracy_val: 94.4853\n",
            "epoches: 400| training_loss 0.1578| Validation_loss 0.2174|accuracy_train: 95.3893|accuracy_val: 92.9657\n",
            "epoches: 420| training_loss 0.1752| Validation_loss 0.152|accuracy_train: 95.2869|accuracy_val: 94.4608\n",
            "epoches: 440| training_loss 0.137| Validation_loss 0.1147|accuracy_train: 96.3115|accuracy_val: 95.2206\n",
            "epoches: 460| training_loss 0.1565| Validation_loss 0.2022|accuracy_train: 94.5697|accuracy_val: 93.7255\n",
            "epoches: 480| training_loss 0.1289| Validation_loss 0.1563|accuracy_train: 95.9016|accuracy_val: 95.2206\n",
            "epoches: 500| training_loss 0.1609| Validation_loss 0.1171|accuracy_train: 95.9016|accuracy_val: 96.299\n",
            "epoches: 520| training_loss 0.1119| Validation_loss 0.1412|accuracy_train: 97.1311|accuracy_val: 96.6912\n",
            "epoches: 540| training_loss 0.1413| Validation_loss 0.2266|accuracy_train: 95.6967|accuracy_val: 93.3578\n",
            "epoches: 560| training_loss 0.1335| Validation_loss 0.111|accuracy_train: 95.6967|accuracy_val: 97.0588\n",
            "epoches: 580| training_loss 0.1061| Validation_loss 0.1156|accuracy_train: 96.6189|accuracy_val: 95.1961\n",
            "epoches: 600| training_loss 0.1289| Validation_loss 0.1869|accuracy_train: 96.3115|accuracy_val: 94.8039\n"
          ]
        }
      ]
    },
    {
      "cell_type": "markdown",
      "source": [
        "# Plotting"
      ],
      "metadata": {
        "id": "EQesOiHBS3Fn"
      }
    },
    {
      "cell_type": "code",
      "source": [],
      "metadata": {
        "id": "4VM3LMEoTOFn"
      },
      "execution_count": null,
      "outputs": []
    },
    {
      "cell_type": "code",
      "source": [
        "fig, axs = plt.subplots(2)\n",
        "fig.suptitle('Loss and  Accuracy curve')\n",
        "axs[0].plot(range(1,301,10), loss_train_accumulate)\n",
        "axs[0].plot(range(1,301,10),loss_val_accumulate)\n",
        "axs[0].set_title('Loss curve')\n",
        "axs[0].set(xlabel='epches', ylabel='Loss')\n",
        "axs[0].legend(['Loss training', 'Loss Validation'])\n",
        "axs[1].plot(range(1,301,10), acc_train_accumulate)\n",
        "axs[1].plot(range(1,301,10),acc_val_accumulate)\n",
        "axs[1].set_title('Accuracy curve')\n",
        "axs[1].legend(['Accuracy training', 'Accuracy Validation'])\n",
        "fig.tight_layout()"
      ],
      "metadata": {
        "colab": {
          "base_uri": "https://localhost:8080/",
          "height": 492
        },
        "id": "JsqGLpJvS25i",
        "outputId": "c63ee4ae-fbea-494f-9627-f96939bc27b4"
      },
      "execution_count": null,
      "outputs": [
        {
          "output_type": "display_data",
          "data": {
            "text/plain": [
              "<Figure size 640x480 with 2 Axes>"
            ],
            "image/png": "[encoded data removed]"
          },
          "metadata": {}
        }
      ]
    },
    {
      "cell_type": "markdown",
      "source": [
        "# Saving weight & vocab"
      ],
      "metadata": {
        "id": "0nz0btXY_vSW"
      }
    },
    {
      "cell_type": "code",
      "source": [
        "checkpoint = {\n",
        "    \"state_dict\":model.state_dict(),\n",
        "    \"word_to_idx\": word_to_idx.copy(),\n",
        "    \"idx_to_word\" : Vi.vocab.itos.copy()\n",
        "}"
      ],
      "metadata": {
        "id": "FZ51qTSZURiz"
      },
      "execution_count": null,
      "outputs": []
    },
    {
      "cell_type": "code",
      "source": [
        "torch.save(checkpoint,\"/content/drive/MyDrive/chatbotschool/Weights/checkpoint3.pt\")"
      ],
      "metadata": {
        "id": "iVwi32Tz268f"
      },
      "execution_count": null,
      "outputs": []
    },
    {
      "cell_type": "code",
      "source": [],
      "metadata": {
        "id": "rhV7MPxJ266L"
      },
      "execution_count": null,
      "outputs": []
    },
    {
      "cell_type": "code",
      "source": [],
      "metadata": {
        "id": "J9-RoYed263z"
      },
      "execution_count": null,
      "outputs": []
    },
    {
      "cell_type": "code",
      "source": [],
      "metadata": {
        "id": "3Oy9h0Ln261a"
      },
      "execution_count": null,
      "outputs": []
    },
    {
      "cell_type": "code",
      "source": [],
      "metadata": {
        "id": "QbvLOvfn26y5"
      },
      "execution_count": null,
      "outputs": []
    },
    {
      "cell_type": "code",
      "source": [],
      "metadata": {
        "id": "e0MQxM4726wl"
      },
      "execution_count": null,
      "outputs": []
    }
  ]
}